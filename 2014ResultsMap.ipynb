{
 "cells": [
  {
   "cell_type": "code",
   "execution_count": 3,
   "metadata": {
    "collapsed": false,
    "scrolled": true
   },
   "outputs": [
    {
     "ename": "ImportError",
     "evalue": "C extension: /projects/29e3300b-990d-41a4-b59c-c25ae7930627/.local/lib/python2.7/site-packages/pandas/hashtable.so: undefined symbol: PyFPE_jbuf not built. If you want to import pandas from the source directory, you may need to run 'python setup.py build_ext --inplace' to build the C extensions first.",
     "output_type": "error",
     "traceback": [
      "\u001b[1;31m---------------------------------------------------------------------------\u001b[0m",
      "\u001b[1;31mImportError\u001b[0m                               Traceback (most recent call last)",
      "\u001b[1;32m<ipython-input-3-9e3c4573f97a>\u001b[0m in \u001b[0;36m<module>\u001b[1;34m()\u001b[0m\n\u001b[1;32m----> 1\u001b[1;33m \u001b[1;32mimport\u001b[0m \u001b[0mpandas\u001b[0m\u001b[1;33m\u001b[0m\u001b[0m\n\u001b[0m\u001b[0;32m      2\u001b[0m \u001b[1;32mimport\u001b[0m \u001b[0mfolium\u001b[0m\u001b[1;33m\u001b[0m\u001b[0m\n\u001b[0;32m      3\u001b[0m \u001b[1;32mimport\u001b[0m \u001b[0mjson\u001b[0m\u001b[1;33m\u001b[0m\u001b[0m\n\u001b[0;32m      4\u001b[0m \u001b[1;32mimport\u001b[0m \u001b[0mnumpy\u001b[0m \u001b[1;32mas\u001b[0m \u001b[0mnp\u001b[0m\u001b[1;33m\u001b[0m\u001b[0m\n\u001b[0;32m      5\u001b[0m \u001b[1;32mfrom\u001b[0m \u001b[0mIPython\u001b[0m\u001b[1;33m.\u001b[0m\u001b[0mdisplay\u001b[0m \u001b[1;32mimport\u001b[0m \u001b[0mHTML\u001b[0m\u001b[1;33m\u001b[0m\u001b[0m\n",
      "\u001b[1;32m/projects/29e3300b-990d-41a4-b59c-c25ae7930627/.local/lib/python2.7/site-packages/pandas/__init__.py\u001b[0m in \u001b[0;36m<module>\u001b[1;34m()\u001b[0m\n\u001b[0;32m     11\u001b[0m                       \u001b[1;34m\"pandas from the source directory, you may need to run \"\u001b[0m\u001b[1;33m\u001b[0m\u001b[0m\n\u001b[0;32m     12\u001b[0m                       \u001b[1;34m\"'python setup.py build_ext --inplace' to build the C \"\u001b[0m\u001b[1;33m\u001b[0m\u001b[0m\n\u001b[1;32m---> 13\u001b[1;33m                       \"extensions first.\".format(module))\n\u001b[0m\u001b[0;32m     14\u001b[0m \u001b[1;33m\u001b[0m\u001b[0m\n\u001b[0;32m     15\u001b[0m \u001b[1;32mfrom\u001b[0m \u001b[0mdatetime\u001b[0m \u001b[1;32mimport\u001b[0m \u001b[0mdatetime\u001b[0m\u001b[1;33m\u001b[0m\u001b[0m\n",
      "\u001b[1;31mImportError\u001b[0m: C extension: /projects/29e3300b-990d-41a4-b59c-c25ae7930627/.local/lib/python2.7/site-packages/pandas/hashtable.so: undefined symbol: PyFPE_jbuf not built. If you want to import pandas from the source directory, you may need to run 'python setup.py build_ext --inplace' to build the C extensions first."
     ]
    }
   ],
   "source": [
    "import pandas\n",
    "import folium\n",
    "import json\n",
    "import numpy as np\n",
    "from IPython.display import HTML\n",
    "\n",
    "#print(folium.__file__)\n",
    "#print(folium.__version__)"
   ]
  },
  {
   "cell_type": "code",
   "execution_count": null,
   "metadata": {
    "collapsed": false,
    "scrolled": false
   },
   "outputs": [],
   "source": [
    "#Get House results data\n",
    "url = 'http://electionresults.sos.state.mn.us/Results/MediaResult/20?mediafileid=20'\n",
    "df = pd.read_csv(url, sep = ';', header = None)\n",
    "\n",
    "df.head()\n"
   ]
  },
  {
   "cell_type": "code",
   "execution_count": null,
   "metadata": {
    "collapsed": false,
    "scrolled": true
   },
   "outputs": [],
   "source": [
    "#Looks wonky, lets clean it up.\n",
    "#Column headings are available here: http://electionresults.sos.state.mn.us/Select/DownloadFileFormats/20\n",
    "#Let's eliminate useless columns\n",
    "df1 = df[[5, 7, 10, 13, 14, 15]]\n",
    "#Rename to something useful\n",
    "df1.columns = ['District', 'Candidate', 'Party', 'Votes_Cnt', 'Votes_Pct', 'Total_Voters']\n",
    "\n",
    "#Eliminate write-ins\n",
    "df1 = df1[df1['Party'] != 'WI']\n",
    "#condense variables\n",
    "data = df1[df1['Party'] == 'DFL']\n",
    "data.to_json('data.json') \n",
    "data.reset_index()\n",
    "#data.reset_index()\n",
    "\n",
    "data.info()"
   ]
  },
  {
   "cell_type": "code",
   "execution_count": null,
   "metadata": {
    "collapsed": false,
    "scrolled": true
   },
   "outputs": [],
   "source": [
    "data.head()"
   ]
  },
  {
   "cell_type": "code",
   "execution_count": null,
   "metadata": {
    "collapsed": false,
    "scrolled": false
   },
   "outputs": [],
   "source": [
    "#Get shapefile\n",
    "# Shapefile is here http://www.gis.leg.mn/html/download.html but I could not download it directly with Python - maybe I'll get there someday.\n",
    "shape_url = 'https://raw.githubusercontent.com/Ccantey/LCC-DistrictFinder/master/data/HSE2012.json'\n",
    "#map.geo_json(geo_path=state_geo, data=state_data,\n",
    "           #  columns=['State', 'Unemployment'],\n",
    "           #  threshold_scale=[5, 6, 7, 8, 9, 10],\n",
    "            # key_on='feature.id',\n",
    "            # fill_color='BuPu', fill_opacity=0.7, line_opacity=0.5,\n",
    "            # legend_name='Unemployment Rate (%)',\n",
    "            # reset=True)\n",
    "\n",
    "\n",
    "import json\n",
    "#District_geo1 = \"L2012-1.json\"\n",
    "District_geo = shape_url\n",
    "#District_geo = json.dumps(json.load(open(District_geo1, 'r')))\n",
    "\n",
    "def inline_map(map):\n",
    "    \"\"\"\n",
    "    Embeds the HTML source of the map directly into the IPython notebook.\n",
    "    \n",
    "    This method will not work if the map depends on any files (json data). Also this uses\n",
    "    the HTML5 srcdoc attribute, which may not be supported in all browsers.\n",
    "    \"\"\"\n",
    "    map._build_map()\n",
    "    return HTML('<iframe srcdoc=\"{srcdoc}\" style=\"width: 100%; height: 510px; border: none\"></iframe>'.format(srcdoc=map.HTML.replace('\"', '&quot;')))\n",
    "\n",
    "def embed_map(map, path=\"map.html\"):\n",
    "    \"\"\"\n",
    "    Embeds a linked iframe to the map into the IPython notebook.\n",
    "    \n",
    "    Note: this method will not capture the source of the map into the notebook.\n",
    "    This method should work for all maps (as long as they use relative urls).\n",
    "    \"\"\"\n",
    "    map.create_map(path=path)\n",
    "    return HTML('<iframe src=\"files/{path}\" style=\"width: 100%; height: 510px; border: none\"></iframe>'.format(path=path))\n",
    "\n",
    "def patcher(fn='map.html'):\n",
    "    f=open(fn,'r')\n",
    "    html=f.read()\n",
    "    f.close()\n",
    "    html=html.replace('\"//','\"http://')\n",
    "    f=open(fn,'w')\n",
    "    f.write(html)\n",
    "    f.close()\n",
    "\n",
    "from IPython.display import HTML\n",
    "\n",
    "def display(m, height=500):\n",
    "    \"\"\"Takes a folium instance and embed HTML.\"\"\"\n",
    "    m._build_map()\n",
    "    srcdoc = m.HTML.replace('\"', '&quot;')\n",
    "    embed = HTML('<iframe srcdoc=\"{0}\" '\n",
    "                 'style=\"width: 100%; height: {1}px; '\n",
    "                 'border: none\"></iframe>'.format(srcdoc, height))\n",
    "    return embed\n",
    "\n",
    "#http://nbviewer.ipython.org/gist/psychemedia/fbcd7cf1daabe0004e27/folium_shapefiles.ipynb \n",
    "#Examples - http://blog.ouseful.info/2015/04/17/creating-interactive-election-maps-using-folium-and-ipython-notebooks/ \n",
    "\n",
    "\n",
    "MN_COORDS = [44.9543070,-93.1022220]\n",
    "blank_map = folium.Map(location = MN_COORDS, zoom_start = 10)\n",
    "\n",
    "blank_map.geo_json(geo_path = shape_url, \n",
    "              data_out=\"data1.json\", \n",
    "              data=data, \n",
    "              columns=['District','Votes_Pct'], \n",
    "              key_on='feature.properties.district',\n",
    "              #threshold_scale=[0, 40, 50, 65]\n",
    "              fill_color = 'RdBu',\n",
    "              fill_opacity=0.7, \n",
    "              line_opacity=0.9,\n",
    "              legend_name = 'Vote Percentage',\n",
    "              reset=\"True\")\n",
    "embed_map(blank_map)\n",
    "\n",
    "\n",
    "#Test\n",
    "\n",
    "\n",
    "#geojson_url_iw='http://mapit.mysociety.org/area/65791.geojson'\n",
    "#iw_map = folium.Map(location=[50.666, -1.37], zoom_start=11)\n",
    "#iw_map.geo_json(geo_path= geojson_url_iw)\n",
    "#embed_map(iw_map)\n",
    "\n",
    "\n",
    "#Add pop-ups for info to map"
   ]
  }
 ],
 "metadata": {
  "kernelspec": {
   "display_name": "Python 3",
   "language": "python",
   "name": "python3"
  },
  "language_info": {
   "codemirror_mode": {
    "name": "ipython",
    "version": 3
   },
   "file_extension": ".py",
   "mimetype": "text/x-python",
   "name": "python",
   "nbconvert_exporter": "python",
   "pygments_lexer": "ipython3",
   "version": "3.4.3+"
  },
  "name": "2014ResultsMap.ipynb"
 },
 "nbformat": 4,
 "nbformat_minor": 0
}
