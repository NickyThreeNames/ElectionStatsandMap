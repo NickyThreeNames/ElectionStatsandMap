{
 "cells": [
  {
   "cell_type": "code",
   "execution_count": 46,
   "metadata": {
    "collapsed": false
   },
   "outputs": [],
   "source": [
    "import pandas as pd\n",
    "import folium\n",
    "import json\n",
    "import numpy as np\n",
    "from IPython.display import HTML"
   ]
  },
  {
   "cell_type": "code",
   "execution_count": 47,
   "metadata": {
    "collapsed": true
   },
   "outputs": [],
   "source": [
    "shape_url = 'https://raw.githubusercontent.com/Ccantey/LCC-DistrictFinder/master/data/HSE2012.json'\n",
    "\n",
    "#District_geo1 = \"L2012-1.json\"\n",
    "District_geo = shape_url\n",
    "#District_geo = json.dumps(json.load(open(District_geo1, 'r')))\n",
    "\n",
    "def inline_map(map):\n",
    "    \"\"\"\n",
    "    Embeds the HTML source of the map directly into the IPython notebook.\n",
    "    \n",
    "    This method will not work if the map depends on any files (json data). Also this uses\n",
    "    the HTML5 srcdoc attribute, which may not be supported in all browsers.\n",
    "    \"\"\"\n",
    "    map._build_map()\n",
    "    return HTML('<iframe srcdoc=\"{srcdoc}\" style=\"width: 100%; height: 510px; border: none\"></iframe>'.format(srcdoc=map.HTML.replace('\"', '&quot;')))\n",
    "\n",
    "def embed_map(map, path=\"map.html\"):\n",
    "    \"\"\"\n",
    "    Embeds a linked iframe to the map into the IPython notebook.\n",
    "    \n",
    "    Note: this method will not capture the source of the map into the notebook.\n",
    "    This method should work for all maps (as long as they use relative urls).\n",
    "    \"\"\"\n",
    "    map.create_map(path=path)\n",
    "    return HTML('<iframe src=\"files/{path}\" style=\"width: 100%; height: 510px; border: none\"></iframe>'.format(path=path))\n",
    "\n",
    "def patcher(fn='map.html'):\n",
    "    f=open(fn,'r')\n",
    "    html=f.read()\n",
    "    f.close()\n",
    "    html=html.replace('\"//','\"http://')\n",
    "    f=open(fn,'w')\n",
    "    f.write(html)\n",
    "    f.close()\n",
    "\n",
    "from IPython.display import HTML\n",
    "\n",
    "def display(m, height=500):\n",
    "    \"\"\"Takes a folium instance and embed HTML.\"\"\"\n",
    "    m._build_map()\n",
    "    srcdoc = m.HTML.replace('\"', '&quot;')\n",
    "    embed = HTML('<iframe srcdoc=\"{0}\" '\n",
    "                 'style=\"width: 100%; height: {1}px; '\n",
    "                 'border: none\"></iframe>'.format(srcdoc, height))\n",
    "    return embed\n",
    "\n",
    "#http://nbviewer.ipython.org/gist/psychemedia/fbcd7cf1daabe0004e27/folium_shapefiles.ipynb \n",
    "#Examples - http://blog.ouseful.info/2015/04/17/creating-interactive-election-maps-using-folium-and-ipython-notebooks/ \n",
    "\n",
    "\n",
    "\n"
   ]
  },
  {
   "cell_type": "code",
   "execution_count": 56,
   "metadata": {
    "collapsed": false
   },
   "outputs": [
    {
     "data": {
      "text/html": [
       "<div>\n",
       "<table border=\"1\" class=\"dataframe\">\n",
       "  <thead>\n",
       "    <tr style=\"text-align: right;\">\n",
       "      <th></th>\n",
       "      <th>District</th>\n",
       "      <th>DPI</th>\n",
       "      <th>DemBase</th>\n",
       "      <th>MidTermDropOffDemBase</th>\n",
       "      <th>Name</th>\n",
       "      <th>Party</th>\n",
       "      <th>Pickup</th>\n",
       "      <th>Pickup_code</th>\n",
       "      <th>YearElected</th>\n",
       "      <th>MNLEGPERC2014</th>\n",
       "      <th>MNGOVPERC2014</th>\n",
       "      <th>District2010</th>\n",
       "      <th>DFL_Percentage</th>\n",
       "      <th>Dayton_Percentage</th>\n",
       "    </tr>\n",
       "  </thead>\n",
       "  <tbody>\n",
       "    <tr>\n",
       "      <th>0</th>\n",
       "      <td>10A</td>\n",
       "      <td>0.426354</td>\n",
       "      <td>0.384084</td>\n",
       "      <td>0.378168</td>\n",
       "      <td>Josh Heintzeman</td>\n",
       "      <td>Republican</td>\n",
       "      <td>Republican</td>\n",
       "      <td>0</td>\n",
       "      <td>2014</td>\n",
       "      <td>0.465370</td>\n",
       "      <td>0.414684</td>\n",
       "      <td>10A</td>\n",
       "      <td>46.537037</td>\n",
       "      <td>41.468376</td>\n",
       "    </tr>\n",
       "    <tr>\n",
       "      <th>1</th>\n",
       "      <td>10B</td>\n",
       "      <td>0.436126</td>\n",
       "      <td>0.399135</td>\n",
       "      <td>0.380867</td>\n",
       "      <td>Dale Lueck</td>\n",
       "      <td>Republican</td>\n",
       "      <td>Republican</td>\n",
       "      <td>0</td>\n",
       "      <td>2014</td>\n",
       "      <td>0.479980</td>\n",
       "      <td>0.454321</td>\n",
       "      <td>10B</td>\n",
       "      <td>47.997973</td>\n",
       "      <td>45.432099</td>\n",
       "    </tr>\n",
       "    <tr>\n",
       "      <th>2</th>\n",
       "      <td>11A</td>\n",
       "      <td>0.529618</td>\n",
       "      <td>0.496667</td>\n",
       "      <td>0.453965</td>\n",
       "      <td>Mike Sundin</td>\n",
       "      <td>DFL</td>\n",
       "      <td>Incumbent</td>\n",
       "      <td>40</td>\n",
       "      <td>2012</td>\n",
       "      <td>0.623473</td>\n",
       "      <td>0.592162</td>\n",
       "      <td>11A</td>\n",
       "      <td>62.347301</td>\n",
       "      <td>59.216246</td>\n",
       "    </tr>\n",
       "    <tr>\n",
       "      <th>3</th>\n",
       "      <td>11B</td>\n",
       "      <td>0.447436</td>\n",
       "      <td>0.409999</td>\n",
       "      <td>0.366094</td>\n",
       "      <td>Jason Rarick</td>\n",
       "      <td>Republican</td>\n",
       "      <td>Republican</td>\n",
       "      <td>0</td>\n",
       "      <td>2014</td>\n",
       "      <td>0.461517</td>\n",
       "      <td>0.459324</td>\n",
       "      <td>11B</td>\n",
       "      <td>46.151657</td>\n",
       "      <td>45.932371</td>\n",
       "    </tr>\n",
       "    <tr>\n",
       "      <th>4</th>\n",
       "      <td>12A</td>\n",
       "      <td>0.463710</td>\n",
       "      <td>0.401893</td>\n",
       "      <td>0.209892</td>\n",
       "      <td>Jeff Backer</td>\n",
       "      <td>Republican</td>\n",
       "      <td>Republican</td>\n",
       "      <td>0</td>\n",
       "      <td>2014</td>\n",
       "      <td>0.479261</td>\n",
       "      <td>0.472669</td>\n",
       "      <td>12A</td>\n",
       "      <td>47.926076</td>\n",
       "      <td>47.266900</td>\n",
       "    </tr>\n",
       "  </tbody>\n",
       "</table>\n",
       "</div>"
      ],
      "text/plain": [
       "  District       DPI   DemBase  MidTermDropOffDemBase             Name  \\\n",
       "0      10A  0.426354  0.384084               0.378168  Josh Heintzeman   \n",
       "1      10B  0.436126  0.399135               0.380867       Dale Lueck   \n",
       "2      11A  0.529618  0.496667               0.453965      Mike Sundin   \n",
       "3      11B  0.447436  0.409999               0.366094     Jason Rarick   \n",
       "4      12A  0.463710  0.401893               0.209892      Jeff Backer   \n",
       "\n",
       "        Party      Pickup  Pickup_code  YearElected  MNLEGPERC2014  \\\n",
       "0  Republican  Republican            0         2014       0.465370   \n",
       "1  Republican  Republican            0         2014       0.479980   \n",
       "2         DFL   Incumbent           40         2012       0.623473   \n",
       "3  Republican  Republican            0         2014       0.461517   \n",
       "4  Republican  Republican            0         2014       0.479261   \n",
       "\n",
       "   MNGOVPERC2014 District2010  DFL_Percentage  Dayton_Percentage  \n",
       "0       0.414684          10A       46.537037          41.468376  \n",
       "1       0.454321          10B       47.997973          45.432099  \n",
       "2       0.592162          11A       62.347301          59.216246  \n",
       "3       0.459324          11B       46.151657          45.932371  \n",
       "4       0.472669          12A       47.926076          47.266900  "
      ]
     },
     "execution_count": 56,
     "metadata": {},
     "output_type": "execute_result"
    }
   ],
   "source": [
    "data = pd.read_csv('stateHouseStats2016.csv')\n",
    "data['DFL_Percentage'] = data['MNLEGPERC2014'] * 100\n",
    "data['Dayton_Percentage'] = data['MNGOVPERC2014'] * 100\n",
    "data['Pickup_code'] = data['Pickup_code'] * 40\n",
    "data.head()"
   ]
  },
  {
   "cell_type": "code",
   "execution_count": 57,
   "metadata": {
    "collapsed": false,
    "scrolled": true
   },
   "outputs": [
    {
     "data": {
      "text/html": [
       "<iframe src=\"files/map.html\" style=\"width: 100%; height: 510px; border: none\"></iframe>"
      ],
      "text/plain": [
       "<IPython.core.display.HTML object>"
      ]
     },
     "execution_count": 57,
     "metadata": {},
     "output_type": "execute_result"
    }
   ],
   "source": [
    "MN_COORDS = [44.9543070,-93.1022220]\n",
    "stateHouse_map = folium.Map(location = MN_COORDS, zoom_start = 10)\n",
    "\n",
    "stateHouse_map.geo_json(geo_path = District_geo, \n",
    "              data_out=\"data1.json\", \n",
    "              data=data, \n",
    "              columns=['Name','DFL_Percentage'], \n",
    "              key_on='feature.properties.name',\n",
    "              threshold_scale=[ 40, 45, 50, 55, 60],\n",
    "              fill_color = 'RdBu',\n",
    "              fill_opacity=0.4, \n",
    "              line_opacity=0.9,\n",
    "              legend_name = 'Vote Percentage',\n",
    "              reset=\"True\")\n",
    "embed_map(stateHouse_map)\n"
   ]
  },
  {
   "cell_type": "code",
   "execution_count": 58,
   "metadata": {
    "collapsed": false,
    "scrolled": true
   },
   "outputs": [
    {
     "data": {
      "text/html": [
       "<iframe src=\"files/map.html\" style=\"width: 100%; height: 510px; border: none\"></iframe>"
      ],
      "text/plain": [
       "<IPython.core.display.HTML object>"
      ]
     },
     "execution_count": 58,
     "metadata": {},
     "output_type": "execute_result"
    }
   ],
   "source": [
    "gov_map = folium.Map(location = MN_COORDS, zoom_start = 10)\n",
    "\n",
    "gov_map.geo_json(geo_path = District_geo, \n",
    "              data_out=\"data2.json\", \n",
    "              data=data, \n",
    "              columns=['Name','Dayton_Percentage'], \n",
    "              key_on='feature.properties.name',\n",
    "              #threshold_scale=[0, 40, 50, 65],\n",
    "              fill_color = 'RdBu',\n",
    "              fill_opacity=0.4, \n",
    "              line_opacity=0.9,\n",
    "              legend_name = 'Gubernatorial Percentage',\n",
    "              reset=\"True\")\n",
    "embed_map(gov_map)\n"
   ]
  },
  {
   "cell_type": "code",
   "execution_count": 63,
   "metadata": {
    "collapsed": false
   },
   "outputs": [
    {
     "data": {
      "text/html": [
       "<iframe src=\"files/map.html\" style=\"width: 100%; height: 510px; border: none\"></iframe>"
      ],
      "text/plain": [
       "<IPython.core.display.HTML object>"
      ]
     },
     "execution_count": 63,
     "metadata": {},
     "output_type": "execute_result"
    }
   ],
   "source": [
    "flip_map = folium.Map(location = MN_COORDS, zoom_start = 10)\n",
    "\n",
    "flip_map.geo_json(geo_path = District_geo, \n",
    "              data_out=\"data2.json\", \n",
    "              data=data, \n",
    "              columns=['Name','Pickup_code'], \n",
    "              key_on='feature.properties.name',\n",
    "              threshold_scale=[20, 40, 50, 80],\n",
    "              fill_color = 'RdBu',\n",
    "              fill_opacity=0.4, \n",
    "              line_opacity=0.9,\n",
    "              legend_name = 'Pickup',\n",
    "              reset=\"True\")\n",
    "embed_map(flip_map)"
   ]
  },
  {
   "cell_type": "markdown",
   "metadata": {},
   "source": [
    "# Everything below here is code I have not gotten to work yet.  Goal was to color in choropleth by whehter it was a newly elected member or incumbent.\n",
    "\n",
    "Got it working above.\n"
   ]
  },
  {
   "cell_type": "code",
   "execution_count": 52,
   "metadata": {
    "collapsed": false
   },
   "outputs": [
    {
     "data": {
      "text/plain": [
       "'def pickup_color_function(feature):\\n    if elect_dict[feature[\\'Pickup\\']] == \"Republican\":\\n        return \\'#FF0000\\'\\n    elif elect_dict[feature[\\'Pickup\\']] == \"DFL\":\\n        return \\'#0000FF\\'\\n    else:\\n        return \\'#1E1E1E\\'\\n        '"
      ]
     },
     "execution_count": 52,
     "metadata": {},
     "output_type": "execute_result"
    }
   ],
   "source": [
    "'''def pickup_color_function(feature):\n",
    "    if elect_dict[feature['Pickup']] == \"Republican\":\n",
    "        return '#FF0000'\n",
    "    elif elect_dict[feature['Pickup']] == \"DFL\":\n",
    "        return '#0000FF'\n",
    "    else:\n",
    "        return '#1E1E1E'\n",
    "        '''"
   ]
  },
  {
   "cell_type": "code",
   "execution_count": 53,
   "metadata": {
    "collapsed": false,
    "scrolled": true
   },
   "outputs": [
    {
     "data": {
      "text/plain": [
       "\"elect_dict = data.set_index('Name')['Pickup']\\nelect_dict\""
      ]
     },
     "execution_count": 53,
     "metadata": {},
     "output_type": "execute_result"
    }
   ],
   "source": [
    "'''elect_dict = data.set_index('Name')['Pickup']\n",
    "elect_dict'''"
   ]
  },
  {
   "cell_type": "code",
   "execution_count": 54,
   "metadata": {
    "collapsed": false
   },
   "outputs": [
    {
     "data": {
      "text/plain": [
       "'m = folium.Map(location = MN_COORDS, zoom_start = 10)\\n\\nm.geo_json(\\n    District_geo,\\n    fillColor= pickup_color_function(elect_dict)\\n\\n    )\\nembed_map(m)'"
      ]
     },
     "execution_count": 54,
     "metadata": {},
     "output_type": "execute_result"
    }
   ],
   "source": [
    "'''m = folium.Map(location = MN_COORDS, zoom_start = 10)\n",
    "\n",
    "m.geo_json(\n",
    "    District_geo,\n",
    "    fillColor= pickup_color_function(elect_dict)\n",
    "\n",
    "    )\n",
    "embed_map(m)'''"
   ]
  },
  {
   "cell_type": "code",
   "execution_count": null,
   "metadata": {
    "collapsed": true
   },
   "outputs": [],
   "source": []
  }
 ],
 "metadata": {
  "kernelspec": {
   "display_name": "Python 2 (Ubuntu, plain)",
   "language": "python",
   "name": "python2-ubuntu"
  },
  "language_info": {
   "codemirror_mode": {
    "name": "ipython",
    "version": 2
   },
   "file_extension": ".py",
   "mimetype": "text/x-python",
   "name": "python",
   "nbconvert_exporter": "python",
   "pygments_lexer": "ipython2",
   "version": "2.7.10"
  },
  "name": "ElectionResultsMap.ipynb"
 },
 "nbformat": 4,
 "nbformat_minor": 0
}
